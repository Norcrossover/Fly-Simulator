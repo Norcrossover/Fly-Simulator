{
 "cells": [
  {
   "cell_type": "code",
   "execution_count": 15,
   "id": "6bda7e3d",
   "metadata": {},
   "outputs": [
    {
     "name": "stdout",
     "output_type": "stream",
     "text": [
      "min [carrying capacity fxn]:  21\n",
      "carrying capacity:  21\n",
      "rate of mortality:  2\n",
      "previous flies   :  10\n",
      "min [carrying capacity fxn]:  36\n",
      "carrying capacity:  52\n",
      "rate of mortality:  0\n",
      "previous flies   :  20.476190476190474\n",
      "min [carrying capacity fxn]:  36\n",
      "carrying capacity:  48\n",
      "rate of mortality:  4\n",
      "previous flies   :  20.476190476190474\n",
      "min [carrying capacity fxn]:  50\n",
      "carrying capacity:  74\n",
      "rate of mortality:  18\n",
      "previous flies   :  67.44142101284959\n",
      "min [carrying capacity fxn]:  27\n",
      "carrying capacity:  27\n",
      "rate of mortality:  5\n",
      "previous flies   :  175.03274480922676\n",
      "All of the flies have died\n",
      "[10, 20.476190476190474, 20.476190476190474, 67.44142101284959, 175.03274480922676, 0]\n",
      "[0, 1, 2, 3, 4, 6]\n"
     ]
    },
    {
     "data": {
      "image/png": "[encoded data removed]",
      "text/plain": [
       "<Figure size 432x288 with 1 Axes>"
      ]
     },
     "metadata": {
      "needs_background": "light"
     },
     "output_type": "display_data"
    }
   ],
   "source": [
    "import matplotlib.pyplot as plt\n",
    "import numpy as np\n",
    "import random as rand\n",
    "\n",
    "# constants/globals \n",
    "months = 12\n",
    "initial_flies = 10\n",
    "x = []\n",
    "y = []\n",
    "current_flies = 0\n",
    "\n",
    "# Creation of a rate to be used in the exponential\n",
    "# human interaction - humans killing flies, larger value meaning greater human interaction, vice versa\n",
    "# flies_health - how healthy the flies are, could be malnourished and weak (larger value) or super strong (smaller value)\n",
    "def rate_of_mortality():\n",
    "    human_interaction = rand.randint(0, rand.randint(0, 10))\n",
    "    flies_health = rand.randint(0, rand.randint(0, 25))\n",
    "    return (human_interaction + flies_health)\n",
    "\n",
    "# defines a carrying capacity, or an amount of food available\n",
    "def carrying_capacity():\n",
    "    min = rand.randint(1, 50)\n",
    "    print(\"min [carrying capacity fxn]: \", min)\n",
    "    return (rand.randint(min, rand.randint(min+1, min*2)))\n",
    "\n",
    "# will linearly return the number of flies\n",
    "def number_of_flies():\n",
    "    alive = True\n",
    "    flies = initial_flies\n",
    "    x.append(initial_flies)\n",
    "    for i in range(months):\n",
    "        current_flies = flies\n",
    "        int(flies)\n",
    "        if (flies < 1):\n",
    "            print(\"All of the flies have died\")\n",
    "            y.append(i+1)\n",
    "            alive = False\n",
    "            break\n",
    "        K = int(carrying_capacity())\n",
    "        r = int(rate_of_mortality())\n",
    "        print(\"carrying capacity: \", K)\n",
    "        print(\"rate of mortality: \", r)\n",
    "        print(\"previous flies   : \", flies)\n",
    "        flies = (flies + (r * (K - flies) * (flies / K)))\n",
    "        x.append(flies)\n",
    "        y.append(i)\n",
    "    if alive == True:\n",
    "        y.append(months)\n",
    "    return alive\n",
    "\n",
    "\n",
    "def graph_data():\n",
    "    if (number_of_flies() == True):\n",
    "        plt.plot(y, x)\n",
    "    else:\n",
    "        x.pop()\n",
    "        x.append(0)\n",
    "        plt.plot(y, x)\n",
    "    print(x)\n",
    "    print(y)\n",
    "    plt.title(\"Fly Simulation Test\")\n",
    "    plt.xlabel(\"Time\")\n",
    "    plt.ylabel(\"Number of Flies\")\n",
    "    \n",
    "    plt.show()\n",
    "    plt.ion()\n",
    "\n",
    "\n",
    "def main():\n",
    "    graph_data()\n",
    "\n",
    "if __name__ == \"__main__\":\n",
    "    main()"
   ]
  }
 ],
 "metadata": {
  "kernelspec": {
   "display_name": "Python 3 (ipykernel)",
   "language": "python",
   "name": "python3"
  },
  "language_info": {
   "codemirror_mode": {
    "name": "ipython",
    "version": 3
   },
   "file_extension": ".py",
   "mimetype": "text/x-python",
   "name": "python",
   "nbconvert_exporter": "python",
   "pygments_lexer": "ipython3",
   "version": "3.9.6"
  }
 },
 "nbformat": 4,
 "nbformat_minor": 5
}
