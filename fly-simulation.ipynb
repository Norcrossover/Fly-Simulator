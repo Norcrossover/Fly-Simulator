{
 "cells": [
  {
   "cell_type": "code",
   "execution_count": 7,
   "id": "6bda7e3d",
   "metadata": {},
   "outputs": [
    {
     "name": "stdout",
     "output_type": "stream",
     "text": [
      "All of the flies have died\n",
      "[3, 17.770408163265305, 243.64926396169125]\n",
      "[0, 1, 2]\n"
     ]
    },
    {
     "data": {
      "image/png": "[encoded data removed]",
      "text/plain": [
       "<Figure size 432x288 with 1 Axes>"
      ]
     },
     "metadata": {
      "needs_background": "light"
     },
     "output_type": "display_data"
    }
   ],
   "source": [
    "import matplotlib.pyplot as plt\n",
    "import numpy as np\n",
    "import random as rand\n",
    "\n",
    "# constants/globals \n",
    "months = 12\n",
    "initial_flies = 3\n",
    "x = []\n",
    "y = []\n",
    "\n",
    "# Creation of a rate to be used in the exponential\n",
    "def rate_of_mortality():\n",
    "    human_interaction = rand.randint(0, rand.randint(5, 10))\n",
    "    flies_health = rand.randint(0, rand.randint(5, 25))\n",
    "    return (human_interaction + flies_health)\n",
    "\n",
    "# defines a carrying capacity, or an amount of food \n",
    "def carrying_capacity():\n",
    "    return (rand.randint(1, 200))\n",
    "\n",
    "# will recursively return the number of flies\n",
    "def number_of_flies():\n",
    "    alive = True\n",
    "    flies = initial_flies\n",
    "    x.append(initial_flies)\n",
    "    for i in range(months):\n",
    "        K = carrying_capacity()\n",
    "        if (flies < 1):\n",
    "            print(\"All of the flies have died\")\n",
    "            y.append(i+1)\n",
    "            alive = False\n",
    "            break\n",
    "        flies = (flies + (rate_of_mortality() * (K - flies) * (flies / K)))\n",
    "        x.append(flies)\n",
    "        y.append(i)\n",
    "    if alive == True:\n",
    "        y.append(months)\n",
    "    return alive\n",
    "\n",
    "\n",
    "def graph_data():\n",
    "    if (number_of_flies() == True):\n",
    "        plt.plot(y, x)\n",
    "    else:\n",
    "        x.pop()\n",
    "        x.append(0)\n",
    "        plt.plot(y, x)\n",
    "    print(x)\n",
    "    print(y)\n",
    "    plt.title(\"Fly Simulation Test\")\n",
    "    plt.xlabel(\"Time\")\n",
    "    plt.ylabel(\"Number of Flies\")\n",
    "    \n",
    "    plt.show()\n",
    "    plt.ion()\n",
    "\n",
    "\n",
    "def main():\n",
    "    graph_data()\n",
    "\n",
    "if __name__ == \"__main__\":\n",
    "    main()"
   ]
  },
  {
   "cell_type": "code",
   "execution_count": null,
   "id": "900708af",
   "metadata": {},
   "outputs": [],
   "source": []
  }
 ],
 "metadata": {
  "kernelspec": {
   "display_name": "Python 3 (ipykernel)",
   "language": "python",
   "name": "python3"
  },
  "language_info": {
   "codemirror_mode": {
    "name": "ipython",
    "version": 3
   },
   "file_extension": ".py",
   "mimetype": "text/x-python",
   "name": "python",
   "nbconvert_exporter": "python",
   "pygments_lexer": "ipython3",
   "version": "3.9.6"
  }
 },
 "nbformat": 4,
 "nbformat_minor": 5
}
